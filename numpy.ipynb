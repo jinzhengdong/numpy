{
 "cells": [
  {
   "cell_type": "markdown",
   "metadata": {},
   "source": [
    "### Numpy\n",
    "\n",
    "* Numpy是高性能科学计算和数据分析的基础包。它是pandas等其他各种工具的基础。\n",
    "* Numpy的主要功能：\n",
    "  * ndarray，一个多维数组结构，高效且节省空间\n",
    "  * 无需循环对数组数据进行快速运算的数学函数\n",
    "  * 读写磁盘数据的工具及操作内存映射文件的工具\n",
    "  * 线性代数、随机数生成及傅里叶变换功能\n",
    "  * 用于集成C、C++等代码的工具\n",
    "  \n",
    "安装：\n",
    "\n",
    "```script\n",
    "pip install numpy\n",
    "```\n",
    "\n",
    "导入方式：\n",
    "\n",
    "```python\n",
    "import numpy as np\n",
    "```\n",
    "\n",
    "国内源：\n",
    "\n",
    "* 中国科技大学 https://pypi.mirrors.ustc.edu.cn/simple/\n",
    "* 清华 https://pypi.tuna.tsinghua.edu.cn/simple"
   ]
  }
 ],
 "metadata": {
  "interpreter": {
   "hash": "ee5cc6fef2d70a7e71ee3826687cbd150f18158e0b1eef11d4f4f92bb920e304"
  },
  "kernelspec": {
   "display_name": "Python 3.9.2 64-bit",
   "language": "python",
   "name": "python3"
  },
  "language_info": {
   "codemirror_mode": {
    "name": "ipython",
    "version": 3
   },
   "file_extension": ".py",
   "mimetype": "text/x-python",
   "name": "python",
   "nbconvert_exporter": "python",
   "pygments_lexer": "ipython3",
   "version": "3.9.2"
  },
  "orig_nbformat": 4
 },
 "nbformat": 4,
 "nbformat_minor": 2
}
