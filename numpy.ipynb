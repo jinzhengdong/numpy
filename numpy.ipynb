{
 "cells": [
  {
   "cell_type": "markdown",
   "metadata": {},
   "source": [
    "### Numpy\n",
    "\n",
    "* Numpy是高性能科学计算和数据分析的基础包。它是pandas等其他各种工具的基础。\n",
    "* Numpy的主要功能：\n",
    "  * ndarray，一个多维数组结构，高效且节省空间\n",
    "  * 无需循环对数组数据进行快速运算的数学函数\n",
    "  * 读写磁盘数据的工具及操作内存映射文件的工具\n",
    "  * 线性代数、随机数生成及傅里叶变换功能\n",
    "  * 用于集成C、C++等代码的工具\n",
    "  \n",
    "安装：\n",
    "\n",
    "```script\n",
    "pip install numpy\n",
    "```\n",
    "\n",
    "导入方式：\n",
    "\n",
    "```python\n",
    "import numpy as np\n",
    "```\n",
    "\n",
    "国内源：\n",
    "\n",
    "* 中国科技大学 https://pypi.mirrors.ustc.edu.cn/simple/\n",
    "* 清华 https://pypi.tuna.tsinghua.edu.cn/simple\n",
    "\n",
    "安装完成后请尝试以下代码："
   ]
  },
  {
   "cell_type": "code",
   "execution_count": 5,
   "metadata": {},
   "outputs": [],
   "source": [
    "import numpy as np\n",
    "\n",
    "np.array([1, 2, 3, 4, 5])   # 创建一个ndarray\n",
    "\n",
    "for i in _:     # 此行的\"_\"代表上一行的返回值\n",
    "    print(i)"
   ]
  },
  {
   "cell_type": "markdown",
   "metadata": {},
   "source": [
    "请比较此处上下相关的两部分代码！```np.array```比```list```有以下好处：\n",
    "\n",
    "* 运算速度比列表快\n",
    "* 内存占用比列表小"
   ]
  },
  {
   "cell_type": "code",
   "execution_count": 3,
   "metadata": {},
   "outputs": [
    {
     "name": "stdout",
     "output_type": "stream",
     "text": [
      "<class 'numpy.ndarray'>\n"
     ]
    }
   ],
   "source": [
    "# 下面代码显示np.array的类型\n",
    "import numpy as np\n",
    "\n",
    "a = np.array([1, 2, 3, 4, 5])\n",
    "print(type(a))     # numpy.ndarray"
   ]
  },
  {
   "cell_type": "code",
   "execution_count": 4,
   "metadata": {},
   "outputs": [
    {
     "name": "stdout",
     "output_type": "stream",
     "text": [
      "856\n",
      "504\n"
     ]
    }
   ],
   "source": [
    "# 下面的代码查看对象所占的数据类型\n",
    "import sys\n",
    "\n",
    "a = list(range(100))\n",
    "print(sys.getsizeof(a))     # 显示占用856个字节\n",
    "\n",
    "b = np.array(range(100))\n",
    "print(sys.getsizeof(b))     # 显示占用504个字节"
   ]
  },
  {
   "cell_type": "code",
   "execution_count": 15,
   "metadata": {},
   "outputs": [],
   "source": [
    "# 以随机数方式创建价格列表及数量列表\n",
    "import random\n",
    "import numpy as np\n",
    "\n",
    "# 生成价格列表\n",
    "pricelist = [round(random.uniform(10.0, 100.0), 2) for i in range(20)]\n",
    "pricelist_np = np.array(pricelist)\n",
    "\n",
    "# 生成数量列表\n",
    "numlist = [random.randint(1, 10) for i in range(20)]\n",
    "numlist_np = np.array(numlist)\n",
    "\n",
    "def getTotal(plist, nlist):\n",
    "    total = 0\n",
    "\n",
    "    for i, j in zip(plist, nlist):\n",
    "        total += i * j\n",
    "        \n",
    "    return total"
   ]
  },
  {
   "cell_type": "code",
   "execution_count": 18,
   "metadata": {},
   "outputs": [
    {
     "data": {
      "text/plain": [
       "5215.46"
      ]
     },
     "execution_count": 18,
     "metadata": {},
     "output_type": "execute_result"
    }
   ],
   "source": [
    "# 求和\n",
    "getTotal(pricelist, numlist)"
   ]
  },
  {
   "cell_type": "code",
   "execution_count": 20,
   "metadata": {},
   "outputs": [
    {
     "name": "stdout",
     "output_type": "stream",
     "text": [
      "1.38 µs ± 18.1 ns per loop (mean ± std. dev. of 7 runs, 1000000 loops each)\n"
     ]
    }
   ],
   "source": [
    "timeit getTotal(pricelist, numlist)"
   ]
  },
  {
   "cell_type": "code",
   "execution_count": 17,
   "metadata": {},
   "outputs": [
    {
     "data": {
      "text/plain": [
       "5215.459999999999"
      ]
     },
     "execution_count": 17,
     "metadata": {},
     "output_type": "execute_result"
    }
   ],
   "source": [
    "# 求和，矢量积，笛卡尔积\n",
    "np.dot(pricelist_np, numlist_np)"
   ]
  },
  {
   "cell_type": "code",
   "execution_count": 21,
   "metadata": {},
   "outputs": [
    {
     "name": "stdout",
     "output_type": "stream",
     "text": [
      "1.62 µs ± 8.05 ns per loop (mean ± std. dev. of 7 runs, 1000000 loops each)\n"
     ]
    }
   ],
   "source": [
    "timeit np.dot(pricelist_np, numlist_np)"
   ]
  },
  {
   "cell_type": "code",
   "execution_count": 24,
   "metadata": {},
   "outputs": [
    {
     "name": "stdout",
     "output_type": "stream",
     "text": [
      "3.21 µs ± 47.5 ns per loop (mean ± std. dev. of 7 runs, 100000 loops each)\n"
     ]
    }
   ],
   "source": [
    "timeit (pricelist_np * numlist_np).sum()"
   ]
  },
  {
   "cell_type": "code",
   "execution_count": 27,
   "metadata": {},
   "outputs": [
    {
     "data": {
      "text/plain": [
       "array([24.19, 93.12, 24.17, 61.89, 35.63, 48.79, 50.46, 97.21, 61.63,\n",
       "       37.63, 72.71, 78.63, 19.23, 70.61, 47.02, 94.35, 36.9 , 70.86,\n",
       "       35.34, 64.09])"
      ]
     },
     "execution_count": 27,
     "metadata": {},
     "output_type": "execute_result"
    }
   ],
   "source": [
    "pricelist_np"
   ]
  },
  {
   "cell_type": "code",
   "execution_count": 28,
   "metadata": {},
   "outputs": [
    {
     "data": {
      "text/plain": [
       "array([25.19, 94.12, 25.17, 62.89, 36.63, 49.79, 51.46, 98.21, 62.63,\n",
       "       38.63, 73.71, 79.63, 20.23, 71.61, 48.02, 95.35, 37.9 , 71.86,\n",
       "       36.34, 65.09])"
      ]
     },
     "execution_count": 28,
     "metadata": {},
     "output_type": "execute_result"
    }
   ],
   "source": [
    "# ndarray的其他算法\n",
    "pricelist_np + 1"
   ]
  },
  {
   "cell_type": "code",
   "execution_count": 29,
   "metadata": {},
   "outputs": [
    {
     "data": {
      "text/plain": [
       "dtype('float64')"
      ]
     },
     "execution_count": 29,
     "metadata": {},
     "output_type": "execute_result"
    }
   ],
   "source": [
    "# 查看数据类型，ndarray必须是相同的数据类型\n",
    "pricelist_np.dtype"
   ]
  },
  {
   "cell_type": "markdown",
   "metadata": {},
   "source": [
    "Numpy的ndarray\n",
    "\n",
    "* dtype\n",
    "  * bool_, int(8, 16, 32, 64), uint(8, 16, 32, 64), float(16, 32, 64)\n",
    "  * 类型转换：astype()\n",
    "* 创建ndarray: np.array()\n",
    "  * array()，将列表转换为数组，可指定dtype\n",
    "  * arange()，numpy版的range()，支持浮点数\n",
    "  * linspace(), 类似arange()，第三个参数为数组长度\n",
    "  * zeros()，创建0数组\n",
    "  * ones()，创建1数组\n",
    "  * empty()，创建空数组，随机值\n",
    "  * eye()，根据指定边长创建单位矩阵\n",
    "* 为什么要使用ndarray:\n",
    "  * examp 1：已知若干公司的美元市值，求其人民币市值\n",
    "  * examp 2：已知购物车中商品的价格及件数，求总价\n",
    "* ndarray可以是多维数组，但元素的类型必须相同\n",
    "* 常用属性：\n",
    "  * T，数组的转置\n",
    "  * dtype，数组元素的数据类型\n",
    "  * size，数组元素的个数\n",
    "  * ndim，数组的维度数\n",
    "  * shape，数组维度的大小"
   ]
  },
  {
   "cell_type": "code",
   "execution_count": 2,
   "metadata": {},
   "outputs": [
    {
     "data": {
      "text/plain": [
       "(100,)"
      ]
     },
     "execution_count": 2,
     "metadata": {},
     "output_type": "execute_result"
    }
   ],
   "source": [
    "# 创建nparray\n",
    "import numpy as np\n",
    "\n",
    "a = np.arange(100)\n",
    "a.shape"
   ]
  },
  {
   "cell_type": "code",
   "execution_count": 8,
   "metadata": {},
   "outputs": [
    {
     "data": {
      "text/plain": [
       "array([[1, 4],\n",
       "       [2, 5],\n",
       "       [3, 6]])"
      ]
     },
     "execution_count": 8,
     "metadata": {},
     "output_type": "execute_result"
    }
   ],
   "source": [
    "# 创建多维数组\n",
    "import numpy as np\n",
    "\n",
    "a = np.array([[1, 2, 3], [4, 5, 6]])\n",
    "a.size\n",
    "a.shape\n",
    "a.ndim\n",
    "a.T"
   ]
  },
  {
   "cell_type": "markdown",
   "metadata": {},
   "source": [
    "numpy基础25分钟处"
   ]
  }
 ],
 "metadata": {
  "interpreter": {
   "hash": "ee5cc6fef2d70a7e71ee3826687cbd150f18158e0b1eef11d4f4f92bb920e304"
  },
  "kernelspec": {
   "display_name": "Python 3.9.2 64-bit",
   "language": "python",
   "name": "python3"
  },
  "language_info": {
   "codemirror_mode": {
    "name": "ipython",
    "version": 3
   },
   "file_extension": ".py",
   "mimetype": "text/x-python",
   "name": "python",
   "nbconvert_exporter": "python",
   "pygments_lexer": "ipython3",
   "version": "3.9.2"
  },
  "orig_nbformat": 4
 },
 "nbformat": 4,
 "nbformat_minor": 2
}
